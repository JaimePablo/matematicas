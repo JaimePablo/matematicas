{
  "nbformat": 4,
  "nbformat_minor": 0,
  "metadata": {
    "colab": {
      "provenance": [],
      "include_colab_link": true
    },
    "kernelspec": {
      "name": "python3",
      "display_name": "Python 3"
    },
    "language_info": {
      "name": "python"
    }
  },
  "cells": [
    {
      "cell_type": "markdown",
      "metadata": {
        "id": "view-in-github",
        "colab_type": "text"
      },
      "source": [
        "<a href=\"https://colab.research.google.com/github/JaimePablo/matematicas/blob/main/practicas/practica_combinatoria.ipynb\" target=\"_parent\"><img src=\"https://colab.research.google.com/assets/colab-badge.svg\" alt=\"Open In Colab\"/></a>"
      ]
    },
    {
      "cell_type": "markdown",
      "source": [
        "# Práctica 1. Combinatoria\n",
        "Resuelva los siguientes apartados de la práctica.  \n",
        "La práctica 1.1 se proporciona solucionada para que pueda servir como ejemplo.\n"
      ],
      "metadata": {
        "id": "VP-PLgSCPtPC"
      }
    },
    {
      "cell_type": "markdown",
      "source": [
        "## Práctica 1.1\n",
        "Cuatro amigos:\n",
        "* Antonio (A)\n",
        "* Begoña (B)\n",
        "* Cesar (C)\n",
        "* Diana (D)\n",
        "\n",
        "constituyen una asociación y tienen que asignar los siguientes cargos:\n",
        "* Presiente (1)\n",
        "* Vicepresidente (2)\n",
        "* Secretario (3)\n",
        "* Tesorero (4)\n",
        "\n",
        "Se pide:\n",
        "1. Escribiendo la solución en una celda de Markdown analice el caso indicando si se trata de variaciones, permutaciones o combinaciones, con o sin repetición o el caso que sea, y el motivo para clasificar el caso de esta forma.\n",
        "2. Utilizando fórmulas de $\\LaTeX$ calcule cuántos casos existen.\n",
        "3. Cree un programa en Python para calcule cuántos casos existen.\n",
        "4. Cree un programa en Python para imprimir todas las posibilidades y numérelas. Por ejemplo:\n",
        "    - 1 ABCD\n",
        "    - 2 ABDC\n",
        "    - 3 ACBD\n",
        "    - &#20; &#20; &#20; ... ... ..."
      ],
      "metadata": {
        "id": "6oyoxqfbQJDC"
      }
    },
    {
      "cell_type": "markdown",
      "source": [
        "### Solución 1.1\n",
        "* Estamos ante un caso de **permutaciones sin repetición** ya que:\n",
        " - El orden importa, no es lo mismo estar el nº1 que significa ser presidente que el nº 4 que corresponde al tesorero.\n",
        " - Intervienen todos. Son 4 amigos para 4 cargos, todos tienen cargo, lo que cambiar es el orden, esto es, el cargo que obtengan.\n",
        " - No se repiten elementos. Una persona no puede tener dos cargos simultaneamente.\n",
        "* Los casos que se obtienen con las permutaciones sin repetición son $P_{n}=n!$ que para este ejemplo son:\n",
        "\n",
        "$$P_{4}=4!=4 \\cdot 3 \\cdot 2 \\cdot 1 = 24$$"
      ],
      "metadata": {
        "id": "t5unIqR7jdZR"
      }
    },
    {
      "cell_type": "code",
      "source": [
        "import math\n",
        "p = math.factorial(4)\n",
        "print(\"Los casos son: \", p)\n",
        "print(\"Comprobación:  \", 4*3*2*1)"
      ],
      "metadata": {
        "id": "va3_l_-hmFS-",
        "colab": {
          "base_uri": "https://localhost:8080/"
        },
        "outputId": "15ad63e6-ed5a-4106-cc90-c4363300d747"
      },
      "execution_count": 4,
      "outputs": [
        {
          "output_type": "stream",
          "name": "stdout",
          "text": [
            "Los casos son:  24\n",
            "Comprobación:   24\n"
          ]
        }
      ]
    },
    {
      "cell_type": "markdown",
      "source": [
        "#### Método 1\n",
        "Sin usar librería."
      ],
      "metadata": {
        "id": "kOM3pEAGnh8v"
      }
    },
    {
      "cell_type": "code",
      "source": [
        "lista = ['A', 'B', 'C', 'D']\n",
        "contador = 1\n",
        "\n",
        "for i in lista:\n",
        "    for j in lista:\n",
        "        for k in lista:\n",
        "            for l in lista:\n",
        "                if i != j and i != k and i != l and j != k and j != l and k != l:\n",
        "                    print(f\"{contador:2d} →  {i+j+k+l}\")\n",
        "                    contador += 1"
      ],
      "metadata": {
        "id": "5--ZpSoJncj3",
        "colab": {
          "base_uri": "https://localhost:8080/"
        },
        "outputId": "694ba1ad-4ca5-42be-c90e-9244a0ed1c48"
      },
      "execution_count": 7,
      "outputs": [
        {
          "output_type": "stream",
          "name": "stdout",
          "text": [
            " 1 →  ABCD\n",
            " 2 →  ABDC\n",
            " 3 →  ACBD\n",
            " 4 →  ACDB\n",
            " 5 →  ADBC\n",
            " 6 →  ADCB\n",
            " 7 →  BACD\n",
            " 8 →  BADC\n",
            " 9 →  BCAD\n",
            "10 →  BCDA\n",
            "11 →  BDAC\n",
            "12 →  BDCA\n",
            "13 →  CABD\n",
            "14 →  CADB\n",
            "15 →  CBAD\n",
            "16 →  CBDA\n",
            "17 →  CDAB\n",
            "18 →  CDBA\n",
            "19 →  DABC\n",
            "20 →  DACB\n",
            "21 →  DBAC\n",
            "22 →  DBCA\n",
            "23 →  DCAB\n",
            "24 →  DCBA\n"
          ]
        }
      ]
    },
    {
      "cell_type": "markdown",
      "source": [
        "#### Método 2\n",
        "* Usamos la función `permutations` de la librería `itertools`.\n",
        "* Imprimimos todas las permutaciones de los elementos de una lista."
      ],
      "metadata": {
        "id": "2PoCD5GlnwS1"
      }
    },
    {
      "cell_type": "code",
      "source": [
        "from itertools import permutations\n",
        "\n",
        "perm = permutations(['A','B','C','D'])   # obtenemos todas las permutaciones de la lista \n",
        "\n",
        "for i in list(perm):                     # imprimimos todas las permutaciones \n",
        "    print (*i)                           # con el asterisco se muestran las listas sin corchetes ni comas"
      ],
      "metadata": {
        "id": "eKkB1gQnn6_P"
      },
      "execution_count": null,
      "outputs": []
    },
    {
      "cell_type": "markdown",
      "source": [
        "## Práctica 1.2\n",
        "Cuatro amigos:\n",
        "* Antonio (A)\n",
        "* Begoña (B)\n",
        "* Cesar (C)\n",
        "* Diana (D)\n",
        "\n",
        "constituyen una asociación y tienen que asignar los siguientes cargos:\n",
        "* Presiente (1)\n",
        "* Secretario (3)\n",
        "* Tesorero (4)\n",
        "\n",
        "Se pide:\n",
        "1. Escribiendo la solución en una celda de Markdown analice el caso indicando si se trata de variaciones, permutaciones o combinaciones, con o sin repetición o el caso que sea, y el motivo para clasificar el caso de esta forma.\n",
        "2. Utilizando fórmulas de $\\LaTeX$ calcule cuántos casos existen.\n",
        "3. Cree un programa en Python para calcule cuántos casos existen.\n",
        "4. Cree un programa en Python para imprimir todas las posibilidades y numérelas. Por ejemplo:\n",
        "    - 1 ABC\n",
        "    - 2 ABD\n",
        "    - 3 ACB\n",
        "    - &#20; &#20; &#20; ... ... ..."
      ],
      "metadata": {
        "id": "sxSuCpAFSBPJ"
      }
    },
    {
      "cell_type": "markdown",
      "source": [
        "### Solución 1.2\n",
        "Estamos ante un caso de variaciones sin repetición ya que:\n",
        "\n",
        "*  El orden importa.\n",
        "*  No intervienen todos. Son 4 amigos para 3 cargos, no todos tienen cargo.\n",
        "*  No se repiten elementos. Una persona no puede tener dos cargos a la vez.\n",
        "\n",
        "Los casos que se obtienen con las combinaciones sin repetición son $$V_{n,k}= \\frac{n!}{(k-n)!}$$\n",
        "que para este ejemplo son:\n",
        "\n",
        "$$V_{4,3}= \\frac{4!}{(4-3)!}=4 \\cdot 3 \\cdot 2  = 24$$\n",
        "\n",
        "\n"
      ],
      "metadata": {
        "id": "xx9qsw_ej9Pd"
      }
    },
    {
      "cell_type": "code",
      "source": [
        "import math\n",
        "p = math.factorial(4)/ math.factorial(4-3)\n",
        "print(\"Los casos son: \", p)\n",
        "print(\"Comprobación:  \", 4*3*2)"
      ],
      "metadata": {
        "colab": {
          "base_uri": "https://localhost:8080/"
        },
        "id": "68GhVBhCvcuu",
        "outputId": "c5219b88-cbe0-4bbb-d10e-f3a5bee1ef3c"
      },
      "execution_count": 80,
      "outputs": [
        {
          "output_type": "stream",
          "name": "stdout",
          "text": [
            "Los casos son:  24.0\n",
            "Comprobación:   24\n"
          ]
        }
      ]
    },
    {
      "cell_type": "code",
      "source": [
        "##Método para calcular las posibilidades\n",
        "lista = ['A', 'B', 'C', 'D'] \n",
        "contador = 1\n",
        "for x in lista:\n",
        "        for y in lista:\n",
        "            for z in lista:\n",
        "                if x != y and x != z and y != z:\n",
        "                    print(f\"{contador:2d} →  {x+y+z}\")\n",
        "                    contador += 1\n"
      ],
      "metadata": {
        "id": "wBXza4z_vx2a"
      },
      "execution_count": null,
      "outputs": []
    },
    {
      "cell_type": "markdown",
      "source": [
        "## Práctica 1.3\n",
        "Invente un caso de **variaciones sin repetición**.\n",
        "Se pide contestar a los mismos puntos que el caso anterior.\n"
      ],
      "metadata": {
        "id": "D0S1DjF4MKmz"
      }
    },
    {
      "cell_type": "markdown",
      "source": [
        "En un partido de futbol sala han faltado todos los jugadores titulares y han acudido solo 5 jugadores; y deben repartirse las responsabilidades de capitán, asistente y segundo asistente. Contando que solo se puede ser un cargo, ¿qué numero de posibilidades hay?"
      ],
      "metadata": {
        "id": "eQM7P0hA1S9W"
      }
    },
    {
      "cell_type": "markdown",
      "source": [
        "### Solución 1.3"
      ],
      "metadata": {
        "id": "AfyuPIASj_20"
      }
    },
    {
      "cell_type": "markdown",
      "source": [
        "Estamos ante un caso de variaciones sin repetición ya que:\n",
        "\n",
        "*  El orden importa, no es lo mismo ser capitán que asistente ni que segundo asistente\n",
        "*  No intervienen todos. Son 5 amigosjugadores para 3 cargos, no todos tienen responsabilidades.\n",
        "*  No se repiten elementos. Una persona no puede tener dos cargos a la vez.\n",
        "\n",
        "Los casos que se obtienen con las combinaciones sin repetición son $$V_{n,k}= \\frac{n!}{(k-n)!}$$\n",
        "que para este ejemplo son:\n",
        "\n",
        "$$V_{5,3}= \\frac{5!}{(5-3)!}=5 \\cdot 4 \\cdot 3  = 60$$\n"
      ],
      "metadata": {
        "id": "MAtCs82vyIz-"
      }
    },
    {
      "cell_type": "code",
      "source": [
        "import math\n",
        "p = math.factorial(5)/ math.factorial(5-3)\n",
        "print(\"Los casos son: \", p)\n",
        "print(\"Comprobación:  \", 5*4*3)"
      ],
      "metadata": {
        "id": "plFxWjgJ0Nzy"
      },
      "execution_count": null,
      "outputs": []
    },
    {
      "cell_type": "code",
      "source": [
        "lista = [\" J1 \",\" J2 \",\" J3 \",\" J4 \",\" J5 \"]\n",
        "contador=1\n",
        "\n",
        "for x in lista:\n",
        "        for y in lista:\n",
        "            for z in lista:\n",
        "                if x != y and x != z and y != z:\n",
        "                    print(f\"{contador:2d} →  {x+y+z}\")\n",
        "                    contador += 1"
      ],
      "metadata": {
        "id": "8z6Qqp3o0Ou3"
      },
      "execution_count": null,
      "outputs": []
    },
    {
      "cell_type": "markdown",
      "source": [
        "## Práctica 1.4\n",
        "Invente un caso de **variaciones con repetición**.\n",
        "Se pide contestar a los mismos puntos que el caso anterior."
      ],
      "metadata": {
        "id": "gvlnqCaRMTua"
      }
    },
    {
      "cell_type": "markdown",
      "source": [
        "¿Cuántos números de 2 cifras se pueden formar únicamente con números pares?"
      ],
      "metadata": {
        "id": "vu6OnnUL8xNe"
      }
    },
    {
      "cell_type": "markdown",
      "source": [
        "### Solución 1.4"
      ],
      "metadata": {
        "id": "hzvsgRDbkCy1"
      }
    },
    {
      "cell_type": "markdown",
      "source": [
        "Estamos ante un caso de variaciones con repetición ya que:\n",
        "* El orden importa, no es lo mismo 02 que 20.\n",
        "* No intervienen todos, solo dos números\n",
        "* Si se repiten elementos, para que haya 22,44,etc.\n",
        "\n",
        "Los casos que se obtienen con las variaciones con repetición son:$$VR\\binom{n}{m}= m^n$$\n",
        "que para este ejemplo son:\n",
        "\n",
        "$$VR\\binom{2}{5}= 5^2$$$"
      ],
      "metadata": {
        "id": "2_7rJhNKWq9Y"
      }
    },
    {
      "cell_type": "code",
      "source": [
        "import math\n",
        "p = 5**2\n",
        "print(\"Los casos son: \", p)\n",
        "print(\"Comprobación:  \", 5*5)"
      ],
      "metadata": {
        "colab": {
          "base_uri": "https://localhost:8080/"
        },
        "id": "DTficDdTz-W1",
        "outputId": "e6f03bae-1585-47b8-bb28-3cf3924e61ca"
      },
      "execution_count": 121,
      "outputs": [
        {
          "output_type": "stream",
          "name": "stdout",
          "text": [
            "Los casos son:  25\n",
            "Comprobación:   25\n"
          ]
        }
      ]
    },
    {
      "cell_type": "code",
      "source": [
        "import itertools \n",
        "\n",
        "def variacionesrepeticion(n, seq):\n",
        "      contador=0\n",
        "      for p in itertools.product(seq, repeat=n):\n",
        "            contador+= 1\n",
        "            print(contador , \"\".join(p))\n",
        "numerospares='02468'\n",
        "m=len(numerospares)\n",
        "n=2\n",
        "variacionesrepeticion(n,numerospares)"
      ],
      "metadata": {
        "id": "LrJpINPZcYAw"
      },
      "execution_count": null,
      "outputs": []
    },
    {
      "cell_type": "markdown",
      "source": [
        "## Práctica 1.5\n",
        "Invente un caso de **permutaciones sin repetición**.\n",
        "Se pide contestar a los mismos puntos que el caso anterior."
      ],
      "metadata": {
        "id": "0OCAC-I-G5F6"
      }
    },
    {
      "cell_type": "markdown",
      "source": [
        "Con las letras de la palabra pato, ¿cuantas palabras se pueden hacer?"
      ],
      "metadata": {
        "id": "mFIw3yCNZOLh"
      }
    },
    {
      "cell_type": "markdown",
      "source": [
        "### Solución 1.5"
      ],
      "metadata": {
        "id": "FvLcj6XXkFOV"
      }
    },
    {
      "cell_type": "markdown",
      "source": [
        "Estamos ante un caso de permutaciones sin repetición ya que:\n",
        "* El orden importa, no es lo mismo pato que topa.\n",
        "* Intervienen todos los elementos, se utilizan las 4 letras.\n",
        "* No se repiten letras.\n",
        "\n",
        "Los casos que se obtienen con las permutaciones sin repetición son:  $P_{n}=n!$ que para este ejemplo son:\n",
        "\n",
        "$$P_{4}=4!=4 \\cdot 3 \\cdot 2 \\cdot 1 = 24$$"
      ],
      "metadata": {
        "id": "YA7TvOuaZPiN"
      }
    },
    {
      "cell_type": "code",
      "source": [
        "import math\n",
        "p = math.factorial(4)/ math.factorial(4-3)\n",
        "print(\"Los casos son: \", p)\n",
        "print(\"Comprobación:  \", 4*3*2)"
      ],
      "metadata": {
        "colab": {
          "base_uri": "https://localhost:8080/"
        },
        "id": "x-yMIpFhcb5F",
        "outputId": "19fee5eb-069f-478e-91e6-eb3ebf4ccc97"
      },
      "execution_count": 123,
      "outputs": [
        {
          "output_type": "stream",
          "name": "stdout",
          "text": [
            "Los casos son:  24.0\n",
            "Comprobación:   24\n"
          ]
        }
      ]
    },
    {
      "cell_type": "code",
      "source": [
        "lista = ['P', 'A', 'T','O']\n",
        "contador = 1\n",
        "\n",
        "for i in lista:\n",
        "    for j in lista:\n",
        "        for k in lista:\n",
        "          for l in lista:\n",
        "\n",
        "                if i != j and i != k and i != l and j != k and j != l and k != l:\n",
        "                    print(f\"{contador:2d} →  {i+j+k+l}\")\n",
        "                    contador += 1"
      ],
      "metadata": {
        "colab": {
          "base_uri": "https://localhost:8080/"
        },
        "id": "bjnXJy4cZQVS",
        "outputId": "628ad521-fe16-434c-800f-91fd7576834f"
      },
      "execution_count": 122,
      "outputs": [
        {
          "output_type": "stream",
          "name": "stdout",
          "text": [
            " 1 →  PATO\n",
            " 2 →  PAOT\n",
            " 3 →  PTAO\n",
            " 4 →  PTOA\n",
            " 5 →  POAT\n",
            " 6 →  POTA\n",
            " 7 →  APTO\n",
            " 8 →  APOT\n",
            " 9 →  ATPO\n",
            "10 →  ATOP\n",
            "11 →  AOPT\n",
            "12 →  AOTP\n",
            "13 →  TPAO\n",
            "14 →  TPOA\n",
            "15 →  TAPO\n",
            "16 →  TAOP\n",
            "17 →  TOPA\n",
            "18 →  TOAP\n",
            "19 →  OPAT\n",
            "20 →  OPTA\n",
            "21 →  OAPT\n",
            "22 →  OATP\n",
            "23 →  OTPA\n",
            "24 →  OTAP\n"
          ]
        }
      ]
    },
    {
      "cell_type": "markdown",
      "source": [
        "## Práctica 1.6\n",
        "Invente un caso de **permutaciones con repetición**.\n",
        "Se pide contestar a los mismos puntos que el caso anterior."
      ],
      "metadata": {
        "id": "YWUXIczqLj3W"
      }
    },
    {
      "cell_type": "markdown",
      "source": [
        "En Un concurso de belleza canina hay 4 categorías distintas y se presentan 4 perros diferentes, un sharpei, un bulldog, un boxer y un mastín. ¿cuales son los diferentes casos que se pueden dar de los ganadores sabiendo que un cánido puede ganar en mas de una categoría?"
      ],
      "metadata": {
        "id": "bquKOewTclN4"
      }
    },
    {
      "cell_type": "markdown",
      "source": [
        "### Solución 1.6"
      ],
      "metadata": {
        "id": "siAxWVVekHs6"
      }
    },
    {
      "cell_type": "markdown",
      "source": [
        "Estamos ante un caso de permutaciones con repetición ya que:\n",
        "* El orden importa, ya que son categorías diferentes.\n",
        "* Intervienen todos los elementos, todos las categorías tienen ganador.\n",
        "* SI se repiten elementos, un mismo perro puede ganar en diferentes categorías.\n",
        "\n",
        "Los casos que se obtienen con las permutaciones con repetición son: $$PR_{n,k}= \\frac{n!}{k_1!*k_2!*k_3!*k_4!*...}$$\n",
        "que para este ejemplo son:\n",
        "\n",
        "$$PR_{4,4}= \\frac{4!}{1!*1!*1!*1!}$$\n",
        "\n"
      ],
      "metadata": {
        "id": "4Qzg925yci45"
      }
    },
    {
      "cell_type": "code",
      "source": [
        "import math\n",
        "\n",
        "print(\"Los casos son: \", p= 4^4)\n",
        "print(\"Comprobación:  \", 16*16)"
      ],
      "metadata": {
        "colab": {
          "base_uri": "https://localhost:8080/",
          "height": 215
        },
        "id": "s0OyyCb7cl4m",
        "outputId": "ec7a25bc-9a8e-4d0c-ea5f-92d4f56126a2"
      },
      "execution_count": 120,
      "outputs": [
        {
          "output_type": "error",
          "ename": "TypeError",
          "evalue": "ignored",
          "traceback": [
            "\u001b[0;31m---------------------------------------------------------------------------\u001b[0m",
            "\u001b[0;31mTypeError\u001b[0m                                 Traceback (most recent call last)",
            "\u001b[0;32m<ipython-input-120-ad7d6296216d>\u001b[0m in \u001b[0;36m<module>\u001b[0;34m\u001b[0m\n\u001b[1;32m      1\u001b[0m \u001b[0;32mimport\u001b[0m \u001b[0mmath\u001b[0m\u001b[0;34m\u001b[0m\u001b[0;34m\u001b[0m\u001b[0m\n\u001b[1;32m      2\u001b[0m \u001b[0;34m\u001b[0m\u001b[0m\n\u001b[0;32m----> 3\u001b[0;31m \u001b[0mprint\u001b[0m\u001b[0;34m(\u001b[0m\u001b[0;34m\"Los casos son: \"\u001b[0m\u001b[0;34m,\u001b[0m \u001b[0mp\u001b[0m\u001b[0;34m=\u001b[0m \u001b[0;36m4\u001b[0m\u001b[0;34m^\u001b[0m\u001b[0;36m4\u001b[0m\u001b[0;34m)\u001b[0m\u001b[0;34m\u001b[0m\u001b[0;34m\u001b[0m\u001b[0m\n\u001b[0m\u001b[1;32m      4\u001b[0m \u001b[0mprint\u001b[0m\u001b[0;34m(\u001b[0m\u001b[0;34m\"Comprobación:  \"\u001b[0m\u001b[0;34m,\u001b[0m \u001b[0;36m16\u001b[0m\u001b[0;34m*\u001b[0m\u001b[0;36m16\u001b[0m\u001b[0;34m)\u001b[0m\u001b[0;34m\u001b[0m\u001b[0;34m\u001b[0m\u001b[0m\n",
            "\u001b[0;31mTypeError\u001b[0m: 'p' is an invalid keyword argument for print()"
          ]
        }
      ]
    },
    {
      "cell_type": "code",
      "source": [
        "lista = ['Sharpei ', 'Bulldog ', 'Boxer ', 'Mastín ']\n",
        "contador=1\n",
        "for x in lista:\n",
        "    for y in lista:\n",
        "        for z in lista:\n",
        "            for w in lista:\n",
        "                    \n",
        "                    print(f\"{contador:2d} → {x+y+z+w}\")\n",
        "                    contador += 1"
      ],
      "metadata": {
        "colab": {
          "base_uri": "https://localhost:8080/"
        },
        "id": "T3tE-p2ucmcL",
        "outputId": "122871e4-8b5b-41f7-95eb-d5c6de25cb05"
      },
      "execution_count": 115,
      "outputs": [
        {
          "output_type": "stream",
          "name": "stdout",
          "text": [
            " 1 → Sharpei Sharpei Sharpei Sharpei \n",
            " 2 → Sharpei Sharpei Sharpei Bulldog \n",
            " 3 → Sharpei Sharpei Sharpei Boxer \n",
            " 4 → Sharpei Sharpei Sharpei Mastín \n",
            " 5 → Sharpei Sharpei Bulldog Sharpei \n",
            " 6 → Sharpei Sharpei Bulldog Bulldog \n",
            " 7 → Sharpei Sharpei Bulldog Boxer \n",
            " 8 → Sharpei Sharpei Bulldog Mastín \n",
            " 9 → Sharpei Sharpei Boxer Sharpei \n",
            "10 → Sharpei Sharpei Boxer Bulldog \n",
            "11 → Sharpei Sharpei Boxer Boxer \n",
            "12 → Sharpei Sharpei Boxer Mastín \n",
            "13 → Sharpei Sharpei Mastín Sharpei \n",
            "14 → Sharpei Sharpei Mastín Bulldog \n",
            "15 → Sharpei Sharpei Mastín Boxer \n",
            "16 → Sharpei Sharpei Mastín Mastín \n",
            "17 → Sharpei Bulldog Sharpei Sharpei \n",
            "18 → Sharpei Bulldog Sharpei Bulldog \n",
            "19 → Sharpei Bulldog Sharpei Boxer \n",
            "20 → Sharpei Bulldog Sharpei Mastín \n",
            "21 → Sharpei Bulldog Bulldog Sharpei \n",
            "22 → Sharpei Bulldog Bulldog Bulldog \n",
            "23 → Sharpei Bulldog Bulldog Boxer \n",
            "24 → Sharpei Bulldog Bulldog Mastín \n",
            "25 → Sharpei Bulldog Boxer Sharpei \n",
            "26 → Sharpei Bulldog Boxer Bulldog \n",
            "27 → Sharpei Bulldog Boxer Boxer \n",
            "28 → Sharpei Bulldog Boxer Mastín \n",
            "29 → Sharpei Bulldog Mastín Sharpei \n",
            "30 → Sharpei Bulldog Mastín Bulldog \n",
            "31 → Sharpei Bulldog Mastín Boxer \n",
            "32 → Sharpei Bulldog Mastín Mastín \n",
            "33 → Sharpei Boxer Sharpei Sharpei \n",
            "34 → Sharpei Boxer Sharpei Bulldog \n",
            "35 → Sharpei Boxer Sharpei Boxer \n",
            "36 → Sharpei Boxer Sharpei Mastín \n",
            "37 → Sharpei Boxer Bulldog Sharpei \n",
            "38 → Sharpei Boxer Bulldog Bulldog \n",
            "39 → Sharpei Boxer Bulldog Boxer \n",
            "40 → Sharpei Boxer Bulldog Mastín \n",
            "41 → Sharpei Boxer Boxer Sharpei \n",
            "42 → Sharpei Boxer Boxer Bulldog \n",
            "43 → Sharpei Boxer Boxer Boxer \n",
            "44 → Sharpei Boxer Boxer Mastín \n",
            "45 → Sharpei Boxer Mastín Sharpei \n",
            "46 → Sharpei Boxer Mastín Bulldog \n",
            "47 → Sharpei Boxer Mastín Boxer \n",
            "48 → Sharpei Boxer Mastín Mastín \n",
            "49 → Sharpei Mastín Sharpei Sharpei \n",
            "50 → Sharpei Mastín Sharpei Bulldog \n",
            "51 → Sharpei Mastín Sharpei Boxer \n",
            "52 → Sharpei Mastín Sharpei Mastín \n",
            "53 → Sharpei Mastín Bulldog Sharpei \n",
            "54 → Sharpei Mastín Bulldog Bulldog \n",
            "55 → Sharpei Mastín Bulldog Boxer \n",
            "56 → Sharpei Mastín Bulldog Mastín \n",
            "57 → Sharpei Mastín Boxer Sharpei \n",
            "58 → Sharpei Mastín Boxer Bulldog \n",
            "59 → Sharpei Mastín Boxer Boxer \n",
            "60 → Sharpei Mastín Boxer Mastín \n",
            "61 → Sharpei Mastín Mastín Sharpei \n",
            "62 → Sharpei Mastín Mastín Bulldog \n",
            "63 → Sharpei Mastín Mastín Boxer \n",
            "64 → Sharpei Mastín Mastín Mastín \n",
            "65 → Bulldog Sharpei Sharpei Sharpei \n",
            "66 → Bulldog Sharpei Sharpei Bulldog \n",
            "67 → Bulldog Sharpei Sharpei Boxer \n",
            "68 → Bulldog Sharpei Sharpei Mastín \n",
            "69 → Bulldog Sharpei Bulldog Sharpei \n",
            "70 → Bulldog Sharpei Bulldog Bulldog \n",
            "71 → Bulldog Sharpei Bulldog Boxer \n",
            "72 → Bulldog Sharpei Bulldog Mastín \n",
            "73 → Bulldog Sharpei Boxer Sharpei \n",
            "74 → Bulldog Sharpei Boxer Bulldog \n",
            "75 → Bulldog Sharpei Boxer Boxer \n",
            "76 → Bulldog Sharpei Boxer Mastín \n",
            "77 → Bulldog Sharpei Mastín Sharpei \n",
            "78 → Bulldog Sharpei Mastín Bulldog \n",
            "79 → Bulldog Sharpei Mastín Boxer \n",
            "80 → Bulldog Sharpei Mastín Mastín \n",
            "81 → Bulldog Bulldog Sharpei Sharpei \n",
            "82 → Bulldog Bulldog Sharpei Bulldog \n",
            "83 → Bulldog Bulldog Sharpei Boxer \n",
            "84 → Bulldog Bulldog Sharpei Mastín \n",
            "85 → Bulldog Bulldog Bulldog Sharpei \n",
            "86 → Bulldog Bulldog Bulldog Bulldog \n",
            "87 → Bulldog Bulldog Bulldog Boxer \n",
            "88 → Bulldog Bulldog Bulldog Mastín \n",
            "89 → Bulldog Bulldog Boxer Sharpei \n",
            "90 → Bulldog Bulldog Boxer Bulldog \n",
            "91 → Bulldog Bulldog Boxer Boxer \n",
            "92 → Bulldog Bulldog Boxer Mastín \n",
            "93 → Bulldog Bulldog Mastín Sharpei \n",
            "94 → Bulldog Bulldog Mastín Bulldog \n",
            "95 → Bulldog Bulldog Mastín Boxer \n",
            "96 → Bulldog Bulldog Mastín Mastín \n",
            "97 → Bulldog Boxer Sharpei Sharpei \n",
            "98 → Bulldog Boxer Sharpei Bulldog \n",
            "99 → Bulldog Boxer Sharpei Boxer \n",
            "100 → Bulldog Boxer Sharpei Mastín \n",
            "101 → Bulldog Boxer Bulldog Sharpei \n",
            "102 → Bulldog Boxer Bulldog Bulldog \n",
            "103 → Bulldog Boxer Bulldog Boxer \n",
            "104 → Bulldog Boxer Bulldog Mastín \n",
            "105 → Bulldog Boxer Boxer Sharpei \n",
            "106 → Bulldog Boxer Boxer Bulldog \n",
            "107 → Bulldog Boxer Boxer Boxer \n",
            "108 → Bulldog Boxer Boxer Mastín \n",
            "109 → Bulldog Boxer Mastín Sharpei \n",
            "110 → Bulldog Boxer Mastín Bulldog \n",
            "111 → Bulldog Boxer Mastín Boxer \n",
            "112 → Bulldog Boxer Mastín Mastín \n",
            "113 → Bulldog Mastín Sharpei Sharpei \n",
            "114 → Bulldog Mastín Sharpei Bulldog \n",
            "115 → Bulldog Mastín Sharpei Boxer \n",
            "116 → Bulldog Mastín Sharpei Mastín \n",
            "117 → Bulldog Mastín Bulldog Sharpei \n",
            "118 → Bulldog Mastín Bulldog Bulldog \n",
            "119 → Bulldog Mastín Bulldog Boxer \n",
            "120 → Bulldog Mastín Bulldog Mastín \n",
            "121 → Bulldog Mastín Boxer Sharpei \n",
            "122 → Bulldog Mastín Boxer Bulldog \n",
            "123 → Bulldog Mastín Boxer Boxer \n",
            "124 → Bulldog Mastín Boxer Mastín \n",
            "125 → Bulldog Mastín Mastín Sharpei \n",
            "126 → Bulldog Mastín Mastín Bulldog \n",
            "127 → Bulldog Mastín Mastín Boxer \n",
            "128 → Bulldog Mastín Mastín Mastín \n",
            "129 → Boxer Sharpei Sharpei Sharpei \n",
            "130 → Boxer Sharpei Sharpei Bulldog \n",
            "131 → Boxer Sharpei Sharpei Boxer \n",
            "132 → Boxer Sharpei Sharpei Mastín \n",
            "133 → Boxer Sharpei Bulldog Sharpei \n",
            "134 → Boxer Sharpei Bulldog Bulldog \n",
            "135 → Boxer Sharpei Bulldog Boxer \n",
            "136 → Boxer Sharpei Bulldog Mastín \n",
            "137 → Boxer Sharpei Boxer Sharpei \n",
            "138 → Boxer Sharpei Boxer Bulldog \n",
            "139 → Boxer Sharpei Boxer Boxer \n",
            "140 → Boxer Sharpei Boxer Mastín \n",
            "141 → Boxer Sharpei Mastín Sharpei \n",
            "142 → Boxer Sharpei Mastín Bulldog \n",
            "143 → Boxer Sharpei Mastín Boxer \n",
            "144 → Boxer Sharpei Mastín Mastín \n",
            "145 → Boxer Bulldog Sharpei Sharpei \n",
            "146 → Boxer Bulldog Sharpei Bulldog \n",
            "147 → Boxer Bulldog Sharpei Boxer \n",
            "148 → Boxer Bulldog Sharpei Mastín \n",
            "149 → Boxer Bulldog Bulldog Sharpei \n",
            "150 → Boxer Bulldog Bulldog Bulldog \n",
            "151 → Boxer Bulldog Bulldog Boxer \n",
            "152 → Boxer Bulldog Bulldog Mastín \n",
            "153 → Boxer Bulldog Boxer Sharpei \n",
            "154 → Boxer Bulldog Boxer Bulldog \n",
            "155 → Boxer Bulldog Boxer Boxer \n",
            "156 → Boxer Bulldog Boxer Mastín \n",
            "157 → Boxer Bulldog Mastín Sharpei \n",
            "158 → Boxer Bulldog Mastín Bulldog \n",
            "159 → Boxer Bulldog Mastín Boxer \n",
            "160 → Boxer Bulldog Mastín Mastín \n",
            "161 → Boxer Boxer Sharpei Sharpei \n",
            "162 → Boxer Boxer Sharpei Bulldog \n",
            "163 → Boxer Boxer Sharpei Boxer \n",
            "164 → Boxer Boxer Sharpei Mastín \n",
            "165 → Boxer Boxer Bulldog Sharpei \n",
            "166 → Boxer Boxer Bulldog Bulldog \n",
            "167 → Boxer Boxer Bulldog Boxer \n",
            "168 → Boxer Boxer Bulldog Mastín \n",
            "169 → Boxer Boxer Boxer Sharpei \n",
            "170 → Boxer Boxer Boxer Bulldog \n",
            "171 → Boxer Boxer Boxer Boxer \n",
            "172 → Boxer Boxer Boxer Mastín \n",
            "173 → Boxer Boxer Mastín Sharpei \n",
            "174 → Boxer Boxer Mastín Bulldog \n",
            "175 → Boxer Boxer Mastín Boxer \n",
            "176 → Boxer Boxer Mastín Mastín \n",
            "177 → Boxer Mastín Sharpei Sharpei \n",
            "178 → Boxer Mastín Sharpei Bulldog \n",
            "179 → Boxer Mastín Sharpei Boxer \n",
            "180 → Boxer Mastín Sharpei Mastín \n",
            "181 → Boxer Mastín Bulldog Sharpei \n",
            "182 → Boxer Mastín Bulldog Bulldog \n",
            "183 → Boxer Mastín Bulldog Boxer \n",
            "184 → Boxer Mastín Bulldog Mastín \n",
            "185 → Boxer Mastín Boxer Sharpei \n",
            "186 → Boxer Mastín Boxer Bulldog \n",
            "187 → Boxer Mastín Boxer Boxer \n",
            "188 → Boxer Mastín Boxer Mastín \n",
            "189 → Boxer Mastín Mastín Sharpei \n",
            "190 → Boxer Mastín Mastín Bulldog \n",
            "191 → Boxer Mastín Mastín Boxer \n",
            "192 → Boxer Mastín Mastín Mastín \n",
            "193 → Mastín Sharpei Sharpei Sharpei \n",
            "194 → Mastín Sharpei Sharpei Bulldog \n",
            "195 → Mastín Sharpei Sharpei Boxer \n",
            "196 → Mastín Sharpei Sharpei Mastín \n",
            "197 → Mastín Sharpei Bulldog Sharpei \n",
            "198 → Mastín Sharpei Bulldog Bulldog \n",
            "199 → Mastín Sharpei Bulldog Boxer \n",
            "200 → Mastín Sharpei Bulldog Mastín \n",
            "201 → Mastín Sharpei Boxer Sharpei \n",
            "202 → Mastín Sharpei Boxer Bulldog \n",
            "203 → Mastín Sharpei Boxer Boxer \n",
            "204 → Mastín Sharpei Boxer Mastín \n",
            "205 → Mastín Sharpei Mastín Sharpei \n",
            "206 → Mastín Sharpei Mastín Bulldog \n",
            "207 → Mastín Sharpei Mastín Boxer \n",
            "208 → Mastín Sharpei Mastín Mastín \n",
            "209 → Mastín Bulldog Sharpei Sharpei \n",
            "210 → Mastín Bulldog Sharpei Bulldog \n",
            "211 → Mastín Bulldog Sharpei Boxer \n",
            "212 → Mastín Bulldog Sharpei Mastín \n",
            "213 → Mastín Bulldog Bulldog Sharpei \n",
            "214 → Mastín Bulldog Bulldog Bulldog \n",
            "215 → Mastín Bulldog Bulldog Boxer \n",
            "216 → Mastín Bulldog Bulldog Mastín \n",
            "217 → Mastín Bulldog Boxer Sharpei \n",
            "218 → Mastín Bulldog Boxer Bulldog \n",
            "219 → Mastín Bulldog Boxer Boxer \n",
            "220 → Mastín Bulldog Boxer Mastín \n",
            "221 → Mastín Bulldog Mastín Sharpei \n",
            "222 → Mastín Bulldog Mastín Bulldog \n",
            "223 → Mastín Bulldog Mastín Boxer \n",
            "224 → Mastín Bulldog Mastín Mastín \n",
            "225 → Mastín Boxer Sharpei Sharpei \n",
            "226 → Mastín Boxer Sharpei Bulldog \n",
            "227 → Mastín Boxer Sharpei Boxer \n",
            "228 → Mastín Boxer Sharpei Mastín \n",
            "229 → Mastín Boxer Bulldog Sharpei \n",
            "230 → Mastín Boxer Bulldog Bulldog \n",
            "231 → Mastín Boxer Bulldog Boxer \n",
            "232 → Mastín Boxer Bulldog Mastín \n",
            "233 → Mastín Boxer Boxer Sharpei \n",
            "234 → Mastín Boxer Boxer Bulldog \n",
            "235 → Mastín Boxer Boxer Boxer \n",
            "236 → Mastín Boxer Boxer Mastín \n",
            "237 → Mastín Boxer Mastín Sharpei \n",
            "238 → Mastín Boxer Mastín Bulldog \n",
            "239 → Mastín Boxer Mastín Boxer \n",
            "240 → Mastín Boxer Mastín Mastín \n",
            "241 → Mastín Mastín Sharpei Sharpei \n",
            "242 → Mastín Mastín Sharpei Bulldog \n",
            "243 → Mastín Mastín Sharpei Boxer \n",
            "244 → Mastín Mastín Sharpei Mastín \n",
            "245 → Mastín Mastín Bulldog Sharpei \n",
            "246 → Mastín Mastín Bulldog Bulldog \n",
            "247 → Mastín Mastín Bulldog Boxer \n",
            "248 → Mastín Mastín Bulldog Mastín \n",
            "249 → Mastín Mastín Boxer Sharpei \n",
            "250 → Mastín Mastín Boxer Bulldog \n",
            "251 → Mastín Mastín Boxer Boxer \n",
            "252 → Mastín Mastín Boxer Mastín \n",
            "253 → Mastín Mastín Mastín Sharpei \n",
            "254 → Mastín Mastín Mastín Bulldog \n",
            "255 → Mastín Mastín Mastín Boxer \n",
            "256 → Mastín Mastín Mastín Mastín \n"
          ]
        }
      ]
    },
    {
      "cell_type": "markdown",
      "source": [
        "## Práctica 1.7\n",
        "Invente un caso de **combinaciones sin repetición**.\n",
        "Se pide contestar a los mismos puntos que el caso anterior."
      ],
      "metadata": {
        "id": "opCrIDtJGg1R"
      }
    },
    {
      "cell_type": "markdown",
      "source": [
        "En un restaurante japonés,tienen 4 tipos diferentes de proteínas para los nigiris que entran en el menú; salmón, atún, pez mantequilla y langostino. Cuantos días podran poner diferente pareja de nigiris sin que los dos sean iguales?"
      ],
      "metadata": {
        "id": "-bacNiG-3OrG"
      }
    },
    {
      "cell_type": "markdown",
      "source": [
        "### Solución 1.7"
      ],
      "metadata": {
        "id": "Zs46BsRnkJcl"
      }
    },
    {
      "cell_type": "markdown",
      "source": [
        "Estamos ante un caso de combinaciones sin repetición ya que:\n",
        "* El orden no importa, son nigiris independientes.\n",
        "* No intervienen todos los elementos, solo se usan dos proteínas.\n",
        "* No se repiten elementos, no quiere repetir para la estetica del plato.\n",
        "\n",
        "Los casos que se obtienen con las combinaciones sin repetición son: $$C\\binom{k}{n}= \\frac{n!}{k!*(n-k)!}$$\n",
        "que para este ejemplo son $$C\\binom24= \\frac{4!}{2!*(4-2)!}$$\n"
      ],
      "metadata": {
        "id": "vNKsdazAcya-"
      }
    },
    {
      "cell_type": "code",
      "source": [
        "from math import factorial\n",
        "c = {int(factorial(4)/factorial(2)/factorial(4-2))}\n",
        "print(f\"Los casos que se obtienen son \", c )\n",
        "print(\"Comprobación:  \", 4*3/2 )"
      ],
      "metadata": {
        "colab": {
          "base_uri": "https://localhost:8080/"
        },
        "id": "MAS1tNw9cy8Q",
        "outputId": "6294af1a-0a9c-4ff7-bbf2-9f41e4a36181"
      },
      "execution_count": 72,
      "outputs": [
        {
          "output_type": "stream",
          "name": "stdout",
          "text": [
            "Los casos que se obtienen son  {6}\n",
            "Comprobación:   6.0\n"
          ]
        }
      ]
    },
    {
      "cell_type": "code",
      "source": [
        "from itertools import combinations\n",
        "\n",
        "proteina = [\"Atún \",\"Salmón \",\"Pez mantequilla \",\"Langostino \",]\n",
        "\n",
        "n = 0\n",
        "combi = []\n",
        "\n",
        "while n < len(proteina):\n",
        "    for y in proteina:\n",
        "        for x in proteina:\n",
        "            if y != x and x + y not in combi:\n",
        "                c = y + x\n",
        "                combi.append(c)\n",
        "                n += 1\n",
        "                print (n,c)"
      ],
      "metadata": {
        "colab": {
          "base_uri": "https://localhost:8080/"
        },
        "id": "2RHj272bczZp",
        "outputId": "56f63c62-fe29-4881-c54a-bd87ee5d8032"
      },
      "execution_count": 67,
      "outputs": [
        {
          "output_type": "stream",
          "name": "stdout",
          "text": [
            "1 Atún Salmón \n",
            "2 Atún Pez mantequilla \n",
            "3 Atún Langostino \n",
            "4 Salmón Pez mantequilla \n",
            "5 Salmón Langostino \n",
            "6 Pez mantequilla Langostino \n"
          ]
        }
      ]
    },
    {
      "cell_type": "markdown",
      "source": [
        "## Práctica 1.8\n",
        "Invente un caso de **combinaciones con repetición**.\n",
        "Se pide contestar a los mismos puntos que el caso anterior."
      ],
      "metadata": {
        "id": "-7Y5WWlDGzAR"
      }
    },
    {
      "cell_type": "markdown",
      "source": [
        "María va a abrir un restaurante y una de las opciones que pueden elegir sus clientes es la elección de los ingredientes secundarios de un plato de arroz, estos pueden ser ambos el mismo, ya que lo mide por cazos. Entre los ingredientes estan; langostinos, pollo, pavo, torreznos, angulas, bacalao. Si quiere dejar preparado un plato de cada para su inauguración, ¿cuántos necesitará? "
      ],
      "metadata": {
        "id": "ZW6zUBRNc_EI"
      }
    },
    {
      "cell_type": "markdown",
      "source": [
        "### Solución 1.8"
      ],
      "metadata": {
        "id": "ReRULqd8kL1F"
      }
    },
    {
      "cell_type": "markdown",
      "source": [
        "Estamos ante un caso de combinaciones con repetición ya que:\n",
        "* El orden no importa, se cocinan a la vez.\n",
        "* No intervienen todos los elementos, solo se usan dos.\n",
        "* Se repiten elementos, pueden elegir el mismo dos veces.\n",
        "\n",
        "Los casos que se obtienen con las combinaciones con repetición son:$$CR= \\binom{(m+n-1)}{n*(m-1)} $$ que para este ejemplo son:\n",
        "\n",
        "$$CR= \\binom{(6+2-1)}{2*(6-1)}= \\binom{7!}{2!*5!} $$ "
      ],
      "metadata": {
        "id": "-bCfvVnxdBes"
      }
    },
    {
      "cell_type": "code",
      "source": [
        "from math import factorial\n",
        "c = {int(factorial(7))/(factorial(2)*factorial(5))}\n",
        "print(f\"Los casos que se obtienen son \", c )\n",
        "print(\"Comprobación:  \", 7*6/2)"
      ],
      "metadata": {
        "colab": {
          "base_uri": "https://localhost:8080/"
        },
        "id": "dMCxDU-PdB-6",
        "outputId": "652a1bb3-0fa4-4ddc-fec5-b0ad27b2c774"
      },
      "execution_count": 103,
      "outputs": [
        {
          "output_type": "stream",
          "name": "stdout",
          "text": [
            "Los casos que se obtienen son  {21.0}\n",
            "Comprobación:   21.0\n"
          ]
        }
      ]
    },
    {
      "cell_type": "code",
      "source": [
        "from itertools import combinations\n",
        "\n",
        "ingredientes = [\"Langostinos \",\"Pollo \",\"Pavo \",\"Torreznos \",\"Angulas \",\"Bacalao \"]\n",
        "\n",
        "n = 0\n",
        "combi = []\n",
        "\n",
        "while n < len(ingredientes):\n",
        "    for x in ingredientes:\n",
        "        for y in ingredientes:\n",
        "            if  x + y not in combi:\n",
        "                c = x + y\n",
        "                d = y + x\n",
        "                c = d\n",
        "                combi.append(c)\n",
        "                n += 1\n",
        "                print (n,c)"
      ],
      "metadata": {
        "colab": {
          "base_uri": "https://localhost:8080/"
        },
        "id": "8vZZKFsydCeU",
        "outputId": "d5d11f67-1cc6-4059-b02b-f20a9418f4d4"
      },
      "execution_count": 106,
      "outputs": [
        {
          "output_type": "stream",
          "name": "stdout",
          "text": [
            "1 Langostinos Langostinos \n",
            "2 Pollo Langostinos \n",
            "3 Pavo Langostinos \n",
            "4 Torreznos Langostinos \n",
            "5 Angulas Langostinos \n",
            "6 Bacalao Langostinos \n",
            "7 Pollo Pollo \n",
            "8 Pavo Pollo \n",
            "9 Torreznos Pollo \n",
            "10 Angulas Pollo \n",
            "11 Bacalao Pollo \n",
            "12 Pavo Pavo \n",
            "13 Torreznos Pavo \n",
            "14 Angulas Pavo \n",
            "15 Bacalao Pavo \n",
            "16 Torreznos Torreznos \n",
            "17 Angulas Torreznos \n",
            "18 Bacalao Torreznos \n",
            "19 Angulas Angulas \n",
            "20 Bacalao Angulas \n",
            "21 Bacalao Bacalao \n"
          ]
        }
      ]
    },
    {
      "cell_type": "markdown",
      "source": [
        "## Práctica 1.9\n",
        "En el gobierno se crea una unidad de crisis formada por el presidente (P) y 4 ministros (A,B,C,D) que se reúnen sentados alrededor de una **mesa redonda**.\n",
        "\n",
        "Se pide:  \n",
        "1. Calcule de cuantas formas pueden llegar a sentarse si el ministro de defensa (D) siempre ha de estar al lado del presidente (P). Escriba la solución en una celda de Markdown utilizando fórmulas en $\\LaTeX$  explicando el caso.\n",
        "2. Cree un programa en Python para calcular el número de casos que se pueden dar al sentarse en la mesa.\n",
        "3. Cree un programa en Python para imprimir todas las posibilidades y numérelas. Por ejemplo:\n",
        "    - 1 PDABC\n",
        "    - 2 PDACB\n",
        "    - 3 PDBCD\n",
        "    - 4 PDBDC\n",
        "    - 5 PDCAB\n",
        "    - 6 PDCBA\n",
        "    - 7 DPABC\n",
        "    - 8 DPACB\n",
        "    - &#20; &#20; &#20; ... ... ...\n"
      ],
      "metadata": {
        "id": "SOzxh_YgHnDG"
      }
    },
    {
      "cell_type": "markdown",
      "source": [
        "### Solución 1.9"
      ],
      "metadata": {
        "id": "F8kV034OkQZX"
      }
    },
    {
      "cell_type": "markdown",
      "source": [
        "Los casos que se obtienen con las permutaciones circulares son $PC_{n5}=(n-1)!$ que para este ejemplo son:\n",
        "\n",
        "$$PC_{5}=(5-1)!= 4!=4 \\cdot 3 \\cdot 2 \\cdot 1 = 24$$"
      ],
      "metadata": {
        "id": "vbzyRcZjT5Ws"
      }
    },
    {
      "cell_type": "code",
      "source": [
        "import math\n",
        "p = math.factorial(5-1)\n",
        "print(\"Los casos son: \", p)\n",
        "print(\"Comprobación:  \", 4*3*2*1)"
      ],
      "metadata": {
        "colab": {
          "base_uri": "https://localhost:8080/"
        },
        "id": "BpXZcGocT6L7",
        "outputId": "c800dac0-c3e3-4669-e2b8-2805545bbb24"
      },
      "execution_count": 81,
      "outputs": [
        {
          "output_type": "stream",
          "name": "stdout",
          "text": [
            "Los casos son:  24\n",
            "Comprobación:   24\n"
          ]
        }
      ]
    },
    {
      "cell_type": "code",
      "source": [],
      "metadata": {
        "id": "CJ7tzJktT6ub"
      },
      "execution_count": 106,
      "outputs": []
    },
    {
      "cell_type": "markdown",
      "source": [
        "## Práctica 1.10\n",
        "* Realice una breve explicación teórica del **triángulo de Pascal**, o también llamado triángulo de Tartaglia, y de las fórmulas de los números combinatorios.\n",
        "* Cree un programa en Python para hacer el triángulo de Pascal."
      ],
      "metadata": {
        "id": "eiHdMOP-MkrZ"
      }
    },
    {
      "cell_type": "markdown",
      "source": [
        "### Solución 1.10"
      ],
      "metadata": {
        "id": "j0UT2579kTSM"
      }
    },
    {
      "cell_type": "markdown",
      "source": [
        "El triángulo de Pascal o triangulo de Tartaglia es un un triángulo infinito conformado por números enteros dispuestos de tal forma que empezando con un número 1 y dos numeros 1 más en la fila de abajo, las siguientes filas se formarán realizando la suma de los dos números que tiene encima. Se puede observar que Los números de los extremos de las filas siempre son 1. También el triángulo de tartaglia puede relacionarse con los numeros combinatorios, el número combinatorio se encuentra en el triángulo en la fila n+1, en el lugar m+1.$$C(\\binom{n}{m}) = \\binom{n}{m} $$  "
      ],
      "metadata": {
        "id": "DJ2WGQV-gPMH"
      }
    },
    {
      "cell_type": "code",
      "source": [
        "num = int(input(\"Enter the number of rows:\"))\n",
        "\n",
        "for n in range(num):\n",
        "    print(' '*(num-n), end='')\n",
        "\n",
        "    print(' '.join(map(str, str(11**n))))"
      ],
      "metadata": {
        "id": "VfgSETnGKZg8"
      },
      "execution_count": null,
      "outputs": []
    }
  ]
}
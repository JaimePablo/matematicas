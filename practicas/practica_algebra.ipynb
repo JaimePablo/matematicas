{
  "nbformat": 4,
  "nbformat_minor": 0,
  "metadata": {
    "colab": {
      "provenance": [],
      "include_colab_link": true
    },
    "kernelspec": {
      "name": "python3",
      "display_name": "Python 3"
    },
    "language_info": {
      "name": "python"
    }
  },
  "cells": [
    {
      "cell_type": "markdown",
      "metadata": {
        "id": "view-in-github",
        "colab_type": "text"
      },
      "source": [
        "<a href=\"https://colab.research.google.com/github/JaimePablo/matematicas/blob/main/practicas/practica_algebra.ipynb\" target=\"_parent\"><img src=\"https://colab.research.google.com/assets/colab-badge.svg\" alt=\"Open In Colab\"/></a>"
      ]
    },
    {
      "cell_type": "markdown",
      "source": [
        "# Práctica 3. Álgebra\n",
        "* Para aprender sobre Python vea la playlist [Python para Matemáticas](https://www.youtube.com/playlist?list=PL8gpDXwO-9l4HkDJ9QhB4H-cOiT0BYGau)\n",
        "* Para obtener ideas y vídeos para la resolución de la práctica vea los archivos siguientes: [Ideas](https://github.com/financieras/math/tree/main/ideas)"
      ],
      "metadata": {
        "id": "b13aYMDxmd7v"
      }
    },
    {
      "cell_type": "markdown",
      "source": [
        "## Práctica 3.1\n",
        "**Determinante en Excel**  \n",
        "\n",
        "* Cree un fichero en Excel de nombre algebra.xlsm.\n",
        "* La extensión **xlsm** corresponde a los archivos de Excel habilitados para macros.\n",
        "* Utilice la Hoja 1 para hacer la Práctica 3.1.\n",
        "* Se pide:\n",
        " 1. Cree una matriz cuadrada de dimensión 5×5, formada por números aleatorios enteros entre -9 y +9.\n",
        " 2. Calcule el determinante de esta matriz\n",
        " 3. Cree un programa en **VBA** que busque una matriz de este tipo cuyo determinante sea cero.\n",
        " 4. Copie la matriz encontrada y péguela debajo con \"pegado especial valores\" para que no varíe su contenido al efectuar el recálculo manual de la hoja."
      ],
      "metadata": {
        "id": "XWa9IdzJmpbB"
      }
    },
    {
      "cell_type": "markdown",
      "source": [
        "## Práctica 3.2\n",
        "**Matriz inversa en Excel**  \n",
        "\n",
        "* Use el mismo archivo de Excel con extensión **xlsm** del caso anterior. \n",
        "* Utilice la Hoja 2 para hacer la Práctica 3.2.\n",
        "* Se pide:\n",
        " 1. Crea la matriz $A$ que es una matriz cuadrada de dimensiones 5×5 usando números aleatorios enteros entre -9 y +9, excepto cero\n",
        " 2. Calcule su determinante\n",
        " 3. Calcule su transpuesta usando la función ```TRANSPONER```\n",
        " 4. Calcule su matriz inversa $A^{-1}$\n",
        " 5. Multiplique la matriz $A$ por su inversa $A^{-1}$ y compruebe que el producto es la matriz identidad.\n",
        " $$AA^{-1}=I$$"
      ],
      "metadata": {
        "id": "cP-ppBE1rzGW"
      }
    },
    {
      "cell_type": "markdown",
      "source": [
        "## Práctica 3.3\n",
        "**Resolución de sistemas lineales en Excel**  \n",
        "\n",
        "* Use el mismo archivo de Excel con extensión **xlsm** del caso anterior. \n",
        "* Utilice la Hoja 3 para hacer la Práctica 3.3.\n",
        "* Se pide:\n",
        " 1. Cree un sistema de 5 ecuaciones con 5 incógnitas con **solución única**.\n",
        " 2. Una de las ecuaciones será: $\\quad x_1+2x_2-x_3+x_4-3x_5=6$\n",
        " 3. Muestre las ecuaciones del sistema usando el [editor de ecuaciones](https://support.microsoft.com/es-es/office/editor-de-ecuaciones-6eac7d71-3c74-437b-80d3-c7dea24fdf3f) de Excel. $\\quad Ax=b$\n",
        " 4. Monte la matriz $A$ del sistema de ecuaciones y la matriz $b$ con los términos independientes. Muestre ambas matrices.\n",
        " 5. Calcule la matriz inversa $A^{-1}$\n",
        " 6. Resuelva el sistema lineal de ecuaciones con este método: $\\quad Ax=b \\quad \\Longrightarrow \\quad x=A^{-1}b$\n",
        " 7. Compruebe si el resultado obtenido es la solución del sistema de ecuaciones. Justifique esa comprobación."
      ],
      "metadata": {
        "id": "jJRClauctBdf"
      }
    },
    {
      "cell_type": "markdown",
      "source": [
        "## Práctica 3.4\n",
        "**Matriz inversa en Python**  \n",
        "\n",
        "Desarrolla un código en Python que al ejecutarse consiga los siguientes apartados.  \n",
        "1. Crea una matriz cuadrada de dimensiones 3×3 usando números aleatorios enteros entre -9 y +9, excepto cero\n",
        "2. Buscar un caso donde el determinante sea igual a 1\n",
        "3. Si el determinante es 1 imprime la matriz y su determinante\n",
        "4. Calcula e imprime su transpuesta\n",
        "5. Calcula e imprime su matriz inversa\n",
        "6. Multiplica la matriz creada por su inversa y comprueba que el producto es la matriz identidad.\n",
        "7. Calcula cuantos segundos ha tardado en realizarse el proceso."
      ],
      "metadata": {
        "id": "EMlUZC6Lqzfs"
      }
    },
    {
      "cell_type": "code",
      "source": [
        "import numpy as np\n",
        "\n",
        "n = 5  \n",
        "\n",
        "while True:\n",
        "    m = np.random.randint(-9,9, size=(3, 3) )  \n",
        "    determ = np.linalg.det(m)\n",
        "    if determ == 1:\n",
        "        print(m)\n",
        "        break\n",
        "print()\n",
        "print(f\"El determinante de la matriz es {determ}\")\n",
        "print()\n",
        "\n",
        "print(\"Matriz:\")\n",
        "print(m)\n",
        "print()\n",
        "\n",
        "print(\"\\nTranspuesta:\")\n",
        "print(np.transpose(m))\n",
        "print()\n",
        "\n",
        "print(\"Inversa:\")\n",
        "minv = np.linalg.inv(m)\n",
        "print(minv)\n",
        "print()\n",
        "\n",
        "print(\"Identidad: \")\n",
        "print(m @ minv)           \n",
        "print()\n",
        "\n",
        "from time import process_time\n",
        "\n",
        "t1 = process_time()\n",
        "\n",
        "for i in range(10_000_000):\n",
        "    cuadrado = i**2\n",
        "\n",
        "t2 = process_time()\n",
        "print(f\"El proceso ha tardado {t2-t1} segundos.\")\n"
      ],
      "metadata": {
        "colab": {
          "base_uri": "https://localhost:8080/"
        },
        "id": "ZlWdM4uqG1gT",
        "outputId": "52023a43-25c6-42de-b1cf-5e12b4f243b5"
      },
      "execution_count": 21,
      "outputs": [
        {
          "output_type": "stream",
          "name": "stdout",
          "text": [
            "[[ 2  4 -7]\n",
            " [-2 -5  7]\n",
            " [ 1  2 -4]]\n",
            "\n",
            "El determinante de la matriz es 1.0\n",
            "\n",
            "Matriz:\n",
            "[[ 2  4 -7]\n",
            " [-2 -5  7]\n",
            " [ 1  2 -4]]\n",
            "\n",
            "\n",
            "Transpuesta:\n",
            "[[ 2 -2  1]\n",
            " [ 4 -5  2]\n",
            " [-7  7 -4]]\n",
            "\n",
            "Inversa:\n",
            "[[ 6.  2. -7.]\n",
            " [-1. -1. -0.]\n",
            " [ 1. -0. -2.]]\n",
            "\n",
            "Identidad: \n",
            "[[1. 0. 0.]\n",
            " [0. 1. 0.]\n",
            " [0. 0. 1.]]\n",
            "\n",
            "El proceso ha tardado 3.4633874959999993 segundos.\n"
          ]
        }
      ]
    },
    {
      "cell_type": "markdown",
      "source": [
        "## Práctica 3.5\n",
        "**Resolución de sistemas lineales en Python**  \n",
        "\n",
        "1. Cree un sistema de 4 ecuaciones con 4 incógnitas con **solución única**.\n",
        "2. La solución del sistema es: $\\; \\begin{pmatrix}x_1, x_2, x_3, x_4\\end{pmatrix} = \\begin{pmatrix} 3, 4, 5, 2\\end{pmatrix}$  \n",
        "3. Una de las ecuaciones del sistema es: $\\enspace x_1+3x_2-x_3-2x_4=6$  \n",
        "4. El vector $b$ de términos independientes es: $\\enspace b=\\begin{pmatrix}6, 3, 5, 7\\end{pmatrix}$  \n",
        "5. Usando números aleatorios elija los coeficientes que faltan de la matriz $A$ del sistema de ecuaciones.\n",
        "  - Los coeficientes deben ser números enteros entre -5 y +5, excluido el cero.\n",
        "  - Imprima la matriz $A$.  \n",
        "6. Calcule e imprima el determinante de $A$.\n",
        "7. Calcule e imprima la matriz inversa $A^{-1}$  \n",
        "8. Resuelva el sistema lineal de ecuaciones con este método: $$Ax=b \\quad \\Longrightarrow \\quad x=A^{-1}b$$\n",
        "9. Compruebe que el resultado obtenido es la solución del sistema de ecuaciones.  \n",
        "10. Resuelva nuevamente el sistema de ecuaciones usando ```np.linalg.solve```."
      ],
      "metadata": {
        "id": "tQQS7GPXIdjH"
      }
    },
    {
      "cell_type": "code",
      "source": [
        "import numpy as np\n",
        "\n",
        "v = np.array([3,4,5,2])   \n",
        "\n",
        "def busca(b):\n",
        "    while True:\n",
        "        w = np.random.choice(list(range(-5,0)) + list(range(1,6)), 4)\n",
        "        if np.matmul(v, w) == b:   \n",
        "            break\n",
        "    return w\n",
        "\n",
        "b =  6; print(f\"{busca(b)} x {v} = {b}\")\n",
        "b = 3; print(f\"{busca(b)} x {v} = {b}\")\n",
        "b = 5; print(f\"{busca(b)} x {v} = {b}\")\n",
        "b = 7; print(f\"{busca(b)} x {v} = {b}\")\n"
      ],
      "metadata": {
        "colab": {
          "base_uri": "https://localhost:8080/"
        },
        "id": "VfM3XnnZuv5y",
        "outputId": "82230379-7a7e-416e-8950-de83277ac826"
      },
      "execution_count": 16,
      "outputs": [
        {
          "output_type": "stream",
          "name": "stdout",
          "text": [
            "[ 1  4 -1 -4] x [3 4 5 2] = 6\n",
            "[ 1 -2  2 -1] x [3 4 5 2] = 3\n",
            "[-4  2  1  2] x [3 4 5 2] = 5\n",
            "[ 2  5 -3 -2] x [3 4 5 2] = 7\n"
          ]
        }
      ]
    },
    {
      "cell_type": "code",
      "source": [
        "import numpy as np\n",
        "\n",
        "f1 = [1, 3, -1,  -2]\n",
        "f2 = [3, -5,  4, -3]\n",
        "f3 = [1, -5, 4,  1]\n",
        "f4 = [-2,  1, 1, 2]\n",
        "matriz = [f1, f2, f3, f4]\n",
        "print(matriz)\n",
        "print()\n",
        "\n",
        "m = np.array(matriz)\n",
        "print(\"Matriz:\")\n",
        "print(m)\n",
        "print()\n",
        "\n",
        "determ = np.linalg.det(m)\n",
        "print()\n",
        "print(f\"El determinante de la matriz es {determ}\")\n",
        "print()\n",
        "print(\"Inversa:\")\n",
        "minv = np.linalg.inv(m)\n",
        "print(minv)\n",
        "print()\n",
        "\n",
        "print(\"X: \")\n",
        "sist = minv @[ 6,3,5,7]\n",
        "print(sist)\n",
        "print()"
      ],
      "metadata": {
        "colab": {
          "base_uri": "https://localhost:8080/"
        },
        "id": "tLKU3Mdbv7pq",
        "outputId": "996df64a-daa2-44be-e32f-ada02edbdde3"
      },
      "execution_count": 29,
      "outputs": [
        {
          "output_type": "stream",
          "name": "stdout",
          "text": [
            "[[1, 3, -1, -2], [3, -5, 4, -3], [1, -5, 4, 1], [-2, 1, 1, 2]]\n",
            "\n",
            "Matriz:\n",
            "[[ 1  3 -1 -2]\n",
            " [ 3 -5  4 -3]\n",
            " [ 1 -5  4  1]\n",
            " [-2  1  1  2]]\n",
            "\n",
            "\n",
            "El determinante de la matriz es 52.00000000000001\n",
            "\n",
            "Inversa:\n",
            "[[ 0.69230769 -0.53846154  0.84615385 -0.53846154]\n",
            " [ 0.42307692 -0.13461538  0.21153846  0.11538462]\n",
            " [ 0.26923077  0.09615385  0.13461538  0.34615385]\n",
            " [ 0.34615385 -0.51923077  0.67307692 -0.26923077]]\n",
            "\n",
            "X: \n",
            "[3. 4. 5. 2.]\n",
            "\n"
          ]
        }
      ]
    },
    {
      "cell_type": "code",
      "source": [
        "import numpy as np\n",
        "a = np.array([[1,3,-1,-2], [3,-5,4,-3], [1,-5,4,1], [-2,1,1,2]])\n",
        "b = np.array([6,3,5,7])\n",
        "a_inv = np.linalg.inv(a)\n",
        "np.dot(a_inv, b)"
      ],
      "metadata": {
        "colab": {
          "base_uri": "https://localhost:8080/"
        },
        "id": "sMv77bzZkMZO",
        "outputId": "b98d4c4d-a85b-4fb4-dc7d-dd83091cc6d6"
      },
      "execution_count": 13,
      "outputs": [
        {
          "output_type": "execute_result",
          "data": {
            "text/plain": [
              "array([3., 4., 5., 2.])"
            ]
          },
          "metadata": {},
          "execution_count": 13
        }
      ]
    },
    {
      "cell_type": "markdown",
      "source": [
        "## Práctica 3.6\n",
        "**Resolución de sistemas lineales con Octave**  \n",
        "\n",
        "1. Tome el mismo sistema 4x4 con solución única del ejercicio anterior.\n",
        "2. Muestra el sistema usando $\\LaTeX$\n",
        "3. Resuélvelo con Octave por dos métodos\n",
        "4. ¿Ambos métodos dan el mismo resultado?"
      ],
      "metadata": {
        "id": "M39ufifh_Jr8"
      }
    },
    {
      "cell_type": "markdown",
      "source": [
        "\n",
        "\n",
        "$$\n",
        "\\left.\n",
        "\\begin{array}{rrrcr}\n",
        "  1x &+3y &-z &-2w &= &6 \\\\\n",
        "  3x &-5y &+4z &-3w &= &3 \\\\\n",
        "  1x &-5y &+4z&+w &= &5 \\\\\n",
        "  -2x &+y &+z &+2w &= &7\n",
        "\\end{array}\n",
        "\\right\\}$$\n",
        "\n",
        "* Forma matricial:\n",
        "\n",
        "$$Ax = b$$\n",
        "\n",
        "* Despejamos la $x$:\n",
        "$$x = A^{-1}b$$\n",
        "\n",
        "* Desarrollo de matrices:\n",
        "$$\\left( \\begin{array}{rrrr}\n",
        "     1 & 3 & -1 & -2 \\\\\n",
        "     3 & -5 & 4 & -3 \\\\\n",
        "    1 & -5 & 4 &  1 \\\\\n",
        "     -2 &1 & 1 & 2\n",
        "  \\end{array}\\right) \\begin{pmatrix}\n",
        "  x \\\\\n",
        "  y \\\\\n",
        "  z \\\\\n",
        "  w\n",
        "\\end{pmatrix} = \\begin{pmatrix}\n",
        "  6 \\\\\n",
        "  3 \\\\\n",
        "  5 \\\\\n",
        "  7\n",
        "\\end{pmatrix}$$\n",
        "\n",
        "* Se despeja el vector:\n",
        "\n",
        "$$\\begin{pmatrix}\n",
        "  x \\\\\n",
        "  y \\\\\n",
        "  z \\\\\n",
        "  w\n",
        "\\end{pmatrix} = \n",
        "\\left( \\begin{array}{rrrr}\n",
        "  1 & 3 & -1 & -2 \\\\\n",
        "     3 & -5 & 4 & -3 \\\\\n",
        "    1 & -5 & 4 &  1 \\\\\n",
        "     -2 &1 & 1 & 2\n",
        "  \\end{array}\\right)  ^{-1} \\begin{pmatrix}\n",
        "  6 \\\\\n",
        "  3 \\\\\n",
        "  5 \\\\\n",
        "  7\n",
        "\\end{pmatrix}$$\n",
        "\n",
        "* Se calcula la inversa:\n",
        "\n",
        "\n",
        "$$\\begin{pmatrix}\n",
        "  x \\\\\n",
        "  y \\\\\n",
        "  z \\\\\n",
        "  w\n",
        "\\end{pmatrix} = \n",
        "\\left( \\begin{array}{rrrr}\n",
        "     \\frac{9}{13} & \\frac{-7}{13} & \\frac{11}{13} &  \\frac{-7}{13} \\\\\n",
        "     \\frac{11}{26} & \\frac{-7}{52} & \\frac{11}{52} & \\frac{3}{26} \\\\\n",
        "     \\frac{7}{26} & \\frac{5}{52} & \\frac{7}{52} & \\frac{9}{26} \\\\\n",
        "     \\frac{9}{26} & \\frac{-27}{52} & \\frac{35}{52} & \\frac{-7}{26}\n",
        "  \\end{array}\\right) \\begin{pmatrix}\n",
        "  6 \\\\\n",
        "  3 \\\\\n",
        "  5 \\\\\n",
        "  7\n",
        "\\end{pmatrix}$$\n",
        "\n",
        "\n",
        "* Obtenemos de solución:\n",
        "\n",
        "$$\\begin{pmatrix}\n",
        "  x \\\\\n",
        "  y \\\\\n",
        "  z \\\\\n",
        "  w\n",
        "\\end{pmatrix} = \\begin{pmatrix}\n",
        "  3 \\\\\n",
        "  4 \\\\\n",
        "  5 \\\\\n",
        "  2\n",
        "\\end{pmatrix}$$\n"
      ],
      "metadata": {
        "id": "GzNwQEK8vR56"
      }
    },
    {
      "cell_type": "code",
      "source": [
        "#Método 1\n",
        "!apt update\n",
        "!apt install octave\n"
      ],
      "metadata": {
        "id": "z-2fT-UfyQbx"
      },
      "execution_count": null,
      "outputs": []
    },
    {
      "cell_type": "code",
      "source": [
        "\n",
        "%%writefile primero.m\n",
        "A = [1 3 -1 -2; 3 -5 4 -3; 1 -5 4 1 ; -2 1 1 2]\n",
        "b = [6; 3; 5; 7]\n",
        "x= inv(A)*b\n",
        "% solución 1\n",
        "s1 =rats(x)\n"
      ],
      "metadata": {
        "colab": {
          "base_uri": "https://localhost:8080/"
        },
        "id": "-N61YxtrzddJ",
        "outputId": "60f53c1b-4116-4f4c-c1a7-9496d2816dc2"
      },
      "execution_count": 9,
      "outputs": [
        {
          "output_type": "stream",
          "name": "stdout",
          "text": [
            "Overwriting primero.m\n"
          ]
        }
      ]
    },
    {
      "cell_type": "code",
      "source": [
        "!octave primero.m"
      ],
      "metadata": {
        "id": "RI56ECfP0CTZ"
      },
      "execution_count": null,
      "outputs": []
    },
    {
      "cell_type": "code",
      "source": [
        "#Método 2\n",
        "!apt update\n",
        "!apt install octave \n"
      ],
      "metadata": {
        "id": "nsKFQB7c88bk"
      },
      "execution_count": null,
      "outputs": []
    },
    {
      "cell_type": "code",
      "source": [
        "%%writefile segundo.m\n",
        "G = [1 3 -1 -2 6; 3 -5 4 -3 3; 1 -5 4 1 5; 4 -3 -3 11 7]\n",
        "escalonada = rref(G)\n",
        "% solución 2\n",
        "s2 = rats(escalonada)"
      ],
      "metadata": {
        "id": "vB7NQYmb9DZ7"
      },
      "execution_count": null,
      "outputs": []
    },
    {
      "cell_type": "code",
      "source": [
        "!octave segundo.m"
      ],
      "metadata": {
        "id": "ARmHPKJD9bzV"
      },
      "execution_count": null,
      "outputs": []
    },
    {
      "cell_type": "markdown",
      "source": [
        "Con ambos métodos obtenemos el mismo resultado\n"
      ],
      "metadata": {
        "id": "Hztdf50F-LCH"
      }
    },
    {
      "cell_type": "markdown",
      "source": [
        "## Práctica 3.7\n",
        "**Diagonalización en Python**\n",
        "\n",
        "* Sea la matriz cuadrada $A$ de orden 4x4\n",
        "\n",
        "$$A=\\left(\n",
        "\\begin{array}{rrrr}\n",
        " -1 &-2 &  3 &-1 \\\\\n",
        "  0 & 2 &  0 & 0 \\\\\n",
        "  0 & 0 &  2 & 0 \\\\\n",
        "  0 & 0 &  0 & 1\n",
        "\\end{array}\n",
        "\\right)$$\n",
        "1. Calcula los **autovalores** y **autovectores**\n",
        "2. Calcula y muestra:\n",
        " - la matriz diagonal $D$\n",
        " - la matriz de paso $P$\n",
        " - su inversa $P^{-1}$  \n",
        "3. Comprueba que se cumple que $A^3=PD^3P^{-1}$"
      ],
      "metadata": {
        "id": "KOhR4DdkL7kg"
      }
    },
    {
      "cell_type": "code",
      "source": [
        "import numpy as np\n",
        "A = np.array([[-1,-2,3,-1], [0,2,0,0], [0,0,2,0], [0,0,0,1]])\n",
        "d,P = np.linalg.eig(A)\n",
        "print(\"d: \", d)\n",
        "D = np.diag(d)\n",
        "print(\"\\nD:\\n\", D)\n",
        "print(\"\\nP:\\n\", P)"
      ],
      "metadata": {
        "id": "44hiF9TvQu8K"
      },
      "execution_count": null,
      "outputs": []
    },
    {
      "cell_type": "code",
      "source": [
        "import numpy as np\n",
        "A = np.array([[-1,-2,3,-1], [0,2,0,0], [0,0,2,0], [0,0,0,1]])\n",
        "print(A@A@A)"
      ],
      "metadata": {
        "id": "XlwrhsBkRLT-"
      },
      "execution_count": null,
      "outputs": []
    },
    {
      "cell_type": "code",
      "source": [
        "import numpy as np\n",
        "A = np.array([[-1,-2,3,-1], [0,2,0,0], [0,0,2,0], [0,0,0,1]])\n",
        "d,P = np.linalg.eig(A)\n",
        "print(\"d: \", d)\n",
        "D = np.diag(d)\n",
        "print(\"\\nD:\\n\", D)\n",
        "print(\"\\nP:\\n\", P)\n",
        "Dcubo = D @ D @ D\n",
        "print(\"\\nDcubo:\\n\", Dcubo)\n",
        "print(\"\\nSolución:\\n\", P @ Dcubo @ np.linalg.inv(P))"
      ],
      "metadata": {
        "id": "DVb24UjDRvLn"
      },
      "execution_count": null,
      "outputs": []
    },
    {
      "cell_type": "markdown",
      "source": [
        "## Práctica 3.8\n",
        "**Diagonalización con Octave**\n",
        "\n",
        "Resuelva el ejercicio anterior, pero en esta ocasión utilizando Octave."
      ],
      "metadata": {
        "id": "tqHIq-of_N_v"
      }
    },
    {
      "cell_type": "code",
      "source": [
        "!apt update\n",
        "!apt install octave"
      ],
      "metadata": {
        "id": "QJobkM4_AP17"
      },
      "execution_count": null,
      "outputs": []
    },
    {
      "cell_type": "code",
      "source": [
        "%%writefile diagonaliza.m\n",
        "A = [-1,-2,3,-1; 0,2,0,0; 0,0,2,0; 0,0,0,1]\n",
        "[P,D]=eig(A)\n",
        "Dcubo = D^3\n",
        "Acubo = A^3\n",
        "PxDcuboXPinv = P*Dcubo*P^-1"
      ],
      "metadata": {
        "id": "6n6TyjyOA3l5"
      },
      "execution_count": null,
      "outputs": []
    },
    {
      "cell_type": "code",
      "source": [
        "!octave diagonaliza.m"
      ],
      "metadata": {
        "id": "EJEZNegmBN7W"
      },
      "execution_count": null,
      "outputs": []
    },
    {
      "cell_type": "markdown",
      "source": [
        "## Práctica 3.9\n",
        "**Libertad para elegir el lugar de trabajo**  \n",
        "Resolver con **Octave**.\n",
        "\n",
        "Una empresa de 1.000 empleados permite que sus trabajadores cada día acudan a trabajar a la oficina o que realicen su trabajo desde su casa. Inicialmente el 90% de la plantilla trabajaba en la oficina y solo el 10% lo hacían en casa. Se ha observado que los que un día trabajan en casa tienen una probabilidad del 70% de realizarlo también desde casa al día siguiente, pero que en el restante 30% de los casos acuden a la oficina al día siguiente. Por el contrario, se ha observado que los que un día trabajaron en la oficina al día siguiente vuelven\n",
        "a la oficina en el 60% de los casos y en el 40% restante van a su casa al día siguiente.\n",
        "* Determinar qué número de empleados se quedan en casa transcurridos dos días.\n",
        "* ¿Y a largo plazo cuantos se quedan en casa?"
      ],
      "metadata": {
        "id": "Aw283nkjdtcQ"
      }
    },
    {
      "cell_type": "code",
      "source": [
        "!apt update\n",
        "!apt install octave"
      ],
      "metadata": {
        "id": "nDaQPCk9H3Kf"
      },
      "execution_count": null,
      "outputs": []
    },
    {
      "cell_type": "code",
      "source": [
        "%%writefile proceso.m\n",
        "empleados = 1000\n",
        "% state vector\n",
        "inicial = [.9; .1]\n",
        "% transition probability matrix\n",
        "A = [.6, .3; .4, .7]\n",
        "[P,D]=eig(A)\n",
        "Dcuadrado = D^2\n",
        "Acuadrado = A^2\n",
        "PxDcuadradoXPinv = P*Dcuadrado*P^-1\n",
        "dia2 = Acuadrado * inicial\n",
        "disp(\"Nº de empleados que se quedan en casa el segundo día: \"), disp(dia2(2)*empleados)\n",
        "D10 = D^10\n",
        "A10 = P*D10*P^-1\n",
        "dia10 = A10 * inicial\n",
        "disp(\"Nº de empleados que se quedan en casa a largo plazo son: \"), disp(dia10(2)*empleados)"
      ],
      "metadata": {
        "id": "B800n7AoIRCy"
      },
      "execution_count": null,
      "outputs": []
    },
    {
      "cell_type": "code",
      "source": [
        "!octave proceso.m"
      ],
      "metadata": {
        "id": "bXj7v6IjJSc5"
      },
      "execution_count": null,
      "outputs": []
    },
    {
      "cell_type": "markdown",
      "source": [
        "## Práctica 3.10\n",
        "**Tendencia del mercado**  \n",
        "Resolver con **Python**.\n",
        "\n",
        "En el mercado de automóviles de gran lujo únicamente se disputan la clientela dos marcas (A y B). Las ventas son $M=100.000$ automóviles anuales, no variando esta cifra con el transcurso de los años. La marca A es líder de mercado en este momento con el 75% de las ventas. Sus directivos desean consolidar su liderazgo e incluso aumentarlo, para lo cual todos los años efectúan una fuerte campaña publicitaria con la que consiguen cada año un 40% de los que fueron clientes de su competidora, aunque la empresa A pierde un 20% de sus clientes que se van a la competencia.\n",
        "* ¿Cuál es la situación a los 3 años?\n",
        "* ¿Y al cabo de mucho tiempo?"
      ],
      "metadata": {
        "id": "lllngWn__QP0"
      }
    },
    {
      "cell_type": "code",
      "source": [
        "import numpy as np\n",
        "\n",
        "X0 = np.array([.75, .25])\n",
        "A = np.array([[.8, .4], [.2 ,.6]])\n",
        "X3 = A@A@A@X0\n",
        "print(\"Situación a los tres años:\", X3)\n",
        "\n",
        "d,P = np.linalg.eig(A)\n",
        "D = np.diag(d)\n",
        "Pinv = np.linalg.inv(P)\n",
        "\n",
        "print(\"Situación a los cincuenta años:\", P@(D**50)@Pinv@X0)"
      ],
      "metadata": {
        "colab": {
          "base_uri": "https://localhost:8080/"
        },
        "id": "65yg8NA5LgHJ",
        "outputId": "4db590ac-987d-437e-c850-a91948d1f7db"
      },
      "execution_count": 1,
      "outputs": [
        {
          "output_type": "stream",
          "name": "stdout",
          "text": [
            "Situación a los tres años: [0.672 0.328]\n",
            "Situación a los cincuenta años: [0.66666667 0.33333333]\n"
          ]
        }
      ]
    }
  ]
}